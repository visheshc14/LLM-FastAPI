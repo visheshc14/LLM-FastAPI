{
 "cells": [
  {
   "cell_type": "code",
   "execution_count": null,
   "metadata": {},
   "outputs": [],
   "source": [
    "# Importing required libraries\n",
    "import os\n",
    "import subprocess\n",
    "\n",
    "# Step 1: Install required packages\n",
    "!pip install -r requirements.txt\n",
    "\n",
    "# Step 2: Train the language model\n",
    "dataset_file = \"dataset.json\"\n",
    "model_output_dir = \"model_weights\"\n",
    "max_epochs = 10\n",
    "\n",
    "subprocess.run([\"python\", \"trainer.py\", \"--fp\", dataset_file, \"--output_dir\", model_output_dir, \"--max_epochs\", str(max_epochs)])\n",
    "\n",
    "# Step 3: Start the server\n",
    "server_command = \"uvicorn server:app --host 0.0.0.0 --port 8000\"\n",
    "os.system(server_command)\n",
    "\n",
    "# Step 4: Test the server using curl command\n",
    "curl_command = 'curl -X POST -H \"Content-Type: application/json\" -d \\'{\"text\": \"Hello\"}\\' http://localhost:8000/generate'\n",
    "os.system(curl_command)\n",
    "\n",
    "# Step 5: Stress test the server using test.py\n",
    "stress_test_command = \"python test.py --num_threads 10 --num_requests 100\"\n",
    "os.system(stress_test_command)\n"
   ]
  }
 ],
 "metadata": {
  "language_info": {
   "name": "python"
  },
  "orig_nbformat": 4
 },
 "nbformat": 4,
 "nbformat_minor": 2
}
